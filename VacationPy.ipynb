{
 "cells": [
  {
   "cell_type": "code",
   "execution_count": 1,
   "id": "2d0bede6",
   "metadata": {},
   "outputs": [],
   "source": [
    "# Import the dependencies.\n",
    "import pandas as pd\n",
    "import gmaps\n",
    "import requests\n",
    "# Import the API key.\n",
    "from config import g_key"
   ]
  },
  {
   "cell_type": "code",
   "execution_count": 2,
   "id": "d69036f9",
   "metadata": {},
   "outputs": [
    {
     "data": {
      "text/html": [
       "<div>\n",
       "<style scoped>\n",
       "    .dataframe tbody tr th:only-of-type {\n",
       "        vertical-align: middle;\n",
       "    }\n",
       "\n",
       "    .dataframe tbody tr th {\n",
       "        vertical-align: top;\n",
       "    }\n",
       "\n",
       "    .dataframe thead th {\n",
       "        text-align: right;\n",
       "    }\n",
       "</style>\n",
       "<table border=\"1\" class=\"dataframe\">\n",
       "  <thead>\n",
       "    <tr style=\"text-align: right;\">\n",
       "      <th></th>\n",
       "      <th>City_ID</th>\n",
       "      <th>City</th>\n",
       "      <th>Lat</th>\n",
       "      <th>Lng</th>\n",
       "      <th>Max Temp</th>\n",
       "      <th>Humidity</th>\n",
       "      <th>Cloudiness</th>\n",
       "      <th>Wind Speed</th>\n",
       "      <th>Country</th>\n",
       "      <th>Date</th>\n",
       "    </tr>\n",
       "  </thead>\n",
       "  <tbody>\n",
       "    <tr>\n",
       "      <th>0</th>\n",
       "      <td>0</td>\n",
       "      <td>Kodiak</td>\n",
       "      <td>57.7900</td>\n",
       "      <td>-152.4072</td>\n",
       "      <td>24.31</td>\n",
       "      <td>58</td>\n",
       "      <td>40</td>\n",
       "      <td>10.36</td>\n",
       "      <td>US</td>\n",
       "      <td>2022-02-09 02:24:45</td>\n",
       "    </tr>\n",
       "    <tr>\n",
       "      <th>1</th>\n",
       "      <td>1</td>\n",
       "      <td>Castro</td>\n",
       "      <td>-24.7911</td>\n",
       "      <td>-50.0119</td>\n",
       "      <td>61.45</td>\n",
       "      <td>98</td>\n",
       "      <td>31</td>\n",
       "      <td>9.04</td>\n",
       "      <td>BR</td>\n",
       "      <td>2022-02-09 02:24:46</td>\n",
       "    </tr>\n",
       "    <tr>\n",
       "      <th>2</th>\n",
       "      <td>2</td>\n",
       "      <td>Saint George</td>\n",
       "      <td>37.1041</td>\n",
       "      <td>-113.5841</td>\n",
       "      <td>61.39</td>\n",
       "      <td>16</td>\n",
       "      <td>0</td>\n",
       "      <td>20.71</td>\n",
       "      <td>US</td>\n",
       "      <td>2022-02-09 02:22:44</td>\n",
       "    </tr>\n",
       "    <tr>\n",
       "      <th>3</th>\n",
       "      <td>3</td>\n",
       "      <td>Talcahuano</td>\n",
       "      <td>-36.7167</td>\n",
       "      <td>-73.1167</td>\n",
       "      <td>64.08</td>\n",
       "      <td>72</td>\n",
       "      <td>0</td>\n",
       "      <td>17.27</td>\n",
       "      <td>CL</td>\n",
       "      <td>2022-02-09 02:24:46</td>\n",
       "    </tr>\n",
       "    <tr>\n",
       "      <th>4</th>\n",
       "      <td>4</td>\n",
       "      <td>Ozark</td>\n",
       "      <td>37.0209</td>\n",
       "      <td>-93.2060</td>\n",
       "      <td>52.21</td>\n",
       "      <td>71</td>\n",
       "      <td>2</td>\n",
       "      <td>7.07</td>\n",
       "      <td>US</td>\n",
       "      <td>2022-02-09 02:24:46</td>\n",
       "    </tr>\n",
       "  </tbody>\n",
       "</table>\n",
       "</div>"
      ],
      "text/plain": [
       "   City_ID          City      Lat       Lng  Max Temp  Humidity  Cloudiness  \\\n",
       "0        0        Kodiak  57.7900 -152.4072     24.31        58          40   \n",
       "1        1        Castro -24.7911  -50.0119     61.45        98          31   \n",
       "2        2  Saint George  37.1041 -113.5841     61.39        16           0   \n",
       "3        3    Talcahuano -36.7167  -73.1167     64.08        72           0   \n",
       "4        4         Ozark  37.0209  -93.2060     52.21        71           2   \n",
       "\n",
       "   Wind Speed Country                 Date  \n",
       "0       10.36      US  2022-02-09 02:24:45  \n",
       "1        9.04      BR  2022-02-09 02:24:46  \n",
       "2       20.71      US  2022-02-09 02:22:44  \n",
       "3       17.27      CL  2022-02-09 02:24:46  \n",
       "4        7.07      US  2022-02-09 02:24:46  "
      ]
     },
     "execution_count": 2,
     "metadata": {},
     "output_type": "execute_result"
    }
   ],
   "source": [
    "# Store the CSV you saved created in part one into a DataFrame.\n",
    "city_data_df = pd.read_csv(\"weather_data/cities.csv\")\n",
    "city_data_df.head()"
   ]
  },
  {
   "cell_type": "code",
   "execution_count": 3,
   "id": "78891e5f",
   "metadata": {},
   "outputs": [
    {
     "data": {
      "text/plain": [
       "City_ID         int64\n",
       "City           object\n",
       "Lat           float64\n",
       "Lng           float64\n",
       "Max Temp      float64\n",
       "Humidity        int64\n",
       "Cloudiness      int64\n",
       "Wind Speed    float64\n",
       "Country        object\n",
       "Date           object\n",
       "dtype: object"
      ]
     },
     "execution_count": 3,
     "metadata": {},
     "output_type": "execute_result"
    }
   ],
   "source": [
    "city_data_df.dtypes"
   ]
  },
  {
   "cell_type": "code",
   "execution_count": 4,
   "id": "a38e05aa",
   "metadata": {},
   "outputs": [],
   "source": [
    "# Configure gmaps to use your Google API key.\n",
    "gmaps.configure(api_key=g_key)"
   ]
  },
  {
   "cell_type": "code",
   "execution_count": null,
   "id": "283b04a4",
   "metadata": {},
   "outputs": [],
   "source": [
    "# Get the maximum temperature.\n",
    "max_temp = city_data_df[\"Max Temp\"]\n",
    "temps = []\n",
    "for temp in max_temp:\n",
    "    temps.append(max(temp, 0))"
   ]
  },
  {
   "cell_type": "code",
   "execution_count": 11,
   "id": "8577749b",
   "metadata": {},
   "outputs": [
    {
     "data": {
      "application/vnd.jupyter.widget-view+json": {
       "model_id": "5c377629935e45d0997ae74da67ea4f1",
       "version_major": 2,
       "version_minor": 0
      },
      "text/plain": [
       "Figure(layout=FigureLayout(height='420px'))"
      ]
     },
     "metadata": {},
     "output_type": "display_data"
    }
   ],
   "source": [
    "# Heatmap of temperature\n",
    "# Get the latitude and longitude.\n",
    "locations = city_data_df[[\"Lat\", \"Lng\"]]\n",
    "# Get the maximum temperature.\n",
    "max_temp = city_data_df[\"Max Temp\"]\n",
    "# Assign the figure variable.\n",
    "fig = gmaps.figure(center=(30.0, 31.0), zoom_level=1.5)\n",
    "# Assign the heatmap variable.\n",
    "heat_layer = gmaps.heatmap_layer(locations, weights=[max(temp, 0) for temp in max_temp], dissipating=False, max_intensity=300, point_radius=4)\n",
    "# Add the heatmap layer.\n",
    "fig.add_layer(heat_layer)\n",
    "# Call the figure to plot the data.\n",
    "fig"
   ]
  },
  {
   "cell_type": "code",
   "execution_count": 10,
   "id": "23efb236",
   "metadata": {},
   "outputs": [
    {
     "data": {
      "application/vnd.jupyter.widget-view+json": {
       "model_id": "413c6d9455004b45a2e54ef7d31d9898",
       "version_major": 2,
       "version_minor": 0
      },
      "text/plain": [
       "Figure(layout=FigureLayout(height='420px'))"
      ]
     },
     "metadata": {},
     "output_type": "display_data"
    }
   ],
   "source": [
    "# Heatmap of percent humidity\n",
    "locations = city_data_df[[\"Lat\", \"Lng\"]]\n",
    "humidity = city_data_df[\"Humidity\"]\n",
    "fig = gmaps.figure(center=(30.0, 31.0), zoom_level=1.5)\n",
    "heat_layer = gmaps.heatmap_layer(locations, weights=humidity, dissipating=False, max_intensity=300, point_radius=4)\n",
    "\n",
    "fig.add_layer(heat_layer)\n",
    "# Call the figure to plot the data.\n",
    "fig"
   ]
  },
  {
   "cell_type": "code",
   "execution_count": 12,
   "id": "35433cd6",
   "metadata": {},
   "outputs": [
    {
     "data": {
      "application/vnd.jupyter.widget-view+json": {
       "model_id": "2c8eab18198440a3aef416d384f75a4c",
       "version_major": 2,
       "version_minor": 0
      },
      "text/plain": [
       "Figure(layout=FigureLayout(height='420px'))"
      ]
     },
     "metadata": {},
     "output_type": "display_data"
    }
   ],
   "source": [
    "# Heatmap of percent Cloudiness\n",
    "locations = city_data_df[[\"Lat\", \"Lng\"]]\n",
    "clouds = city_data_df[\"Cloudiness\"]\n",
    "fig = gmaps.figure(center=(30.0, 31.0), zoom_level=1.5)\n",
    "heat_layer = gmaps.heatmap_layer(locations, weights=clouds, dissipating=False, max_intensity=300, point_radius=4)\n",
    "\n",
    "fig.add_layer(heat_layer)\n",
    "# Call the figure to plot the data.\n",
    "fig"
   ]
  },
  {
   "cell_type": "code",
   "execution_count": 13,
   "id": "743e1fa7",
   "metadata": {},
   "outputs": [
    {
     "data": {
      "application/vnd.jupyter.widget-view+json": {
       "model_id": "54d1ee63f54d4fa7ac705ad1e332fa3d",
       "version_major": 2,
       "version_minor": 0
      },
      "text/plain": [
       "Figure(layout=FigureLayout(height='420px'))"
      ]
     },
     "metadata": {},
     "output_type": "display_data"
    }
   ],
   "source": [
    "# Heatmap of Wind Speed Heatmap\n",
    "locations = city_data_df[[\"Lat\", \"Lng\"]]\n",
    "wind_speed = city_data_df[\"Wind Speed\"]\n",
    "fig = gmaps.figure(center=(30.0, 31.0), zoom_level=1.5)\n",
    "heat_layer = gmaps.heatmap_layer(locations, weights=wind_speed, dissipating=False, max_intensity=300, point_radius=4)\n",
    "\n",
    "fig.add_layer(heat_layer)\n",
    "# Call the figure to plot the data.\n",
    "fig"
   ]
  },
  {
   "cell_type": "code",
   "execution_count": 14,
   "id": "c368e2a9",
   "metadata": {},
   "outputs": [],
   "source": [
    "# Ask the customer to add a minimum and maximum temperature value.\n",
    "min_temp = float(input(\"What is the minimum temperature you would like for your trip? \"))\n",
    "max_temp = float(input(\"What is the maximum temperature you would like for your trip? \"))"
   ]
  },
  {
   "cell_type": "code",
   "execution_count": 15,
   "id": "ba36d17e",
   "metadata": {},
   "outputs": [
    {
     "data": {
      "text/html": [
       "<div>\n",
       "<style scoped>\n",
       "    .dataframe tbody tr th:only-of-type {\n",
       "        vertical-align: middle;\n",
       "    }\n",
       "\n",
       "    .dataframe tbody tr th {\n",
       "        vertical-align: top;\n",
       "    }\n",
       "\n",
       "    .dataframe thead th {\n",
       "        text-align: right;\n",
       "    }\n",
       "</style>\n",
       "<table border=\"1\" class=\"dataframe\">\n",
       "  <thead>\n",
       "    <tr style=\"text-align: right;\">\n",
       "      <th></th>\n",
       "      <th>City_ID</th>\n",
       "      <th>City</th>\n",
       "      <th>Lat</th>\n",
       "      <th>Lng</th>\n",
       "      <th>Max Temp</th>\n",
       "      <th>Humidity</th>\n",
       "      <th>Cloudiness</th>\n",
       "      <th>Wind Speed</th>\n",
       "      <th>Country</th>\n",
       "      <th>Date</th>\n",
       "    </tr>\n",
       "  </thead>\n",
       "  <tbody>\n",
       "    <tr>\n",
       "      <th>0</th>\n",
       "      <td>0</td>\n",
       "      <td>Kodiak</td>\n",
       "      <td>57.7900</td>\n",
       "      <td>-152.4072</td>\n",
       "      <td>24.31</td>\n",
       "      <td>58</td>\n",
       "      <td>40</td>\n",
       "      <td>10.36</td>\n",
       "      <td>US</td>\n",
       "      <td>2022-02-09 02:24:45</td>\n",
       "    </tr>\n",
       "    <tr>\n",
       "      <th>1</th>\n",
       "      <td>1</td>\n",
       "      <td>Castro</td>\n",
       "      <td>-24.7911</td>\n",
       "      <td>-50.0119</td>\n",
       "      <td>61.45</td>\n",
       "      <td>98</td>\n",
       "      <td>31</td>\n",
       "      <td>9.04</td>\n",
       "      <td>BR</td>\n",
       "      <td>2022-02-09 02:24:46</td>\n",
       "    </tr>\n",
       "    <tr>\n",
       "      <th>2</th>\n",
       "      <td>2</td>\n",
       "      <td>Saint George</td>\n",
       "      <td>37.1041</td>\n",
       "      <td>-113.5841</td>\n",
       "      <td>61.39</td>\n",
       "      <td>16</td>\n",
       "      <td>0</td>\n",
       "      <td>20.71</td>\n",
       "      <td>US</td>\n",
       "      <td>2022-02-09 02:22:44</td>\n",
       "    </tr>\n",
       "    <tr>\n",
       "      <th>3</th>\n",
       "      <td>3</td>\n",
       "      <td>Talcahuano</td>\n",
       "      <td>-36.7167</td>\n",
       "      <td>-73.1167</td>\n",
       "      <td>64.08</td>\n",
       "      <td>72</td>\n",
       "      <td>0</td>\n",
       "      <td>17.27</td>\n",
       "      <td>CL</td>\n",
       "      <td>2022-02-09 02:24:46</td>\n",
       "    </tr>\n",
       "    <tr>\n",
       "      <th>4</th>\n",
       "      <td>4</td>\n",
       "      <td>Ozark</td>\n",
       "      <td>37.0209</td>\n",
       "      <td>-93.2060</td>\n",
       "      <td>52.21</td>\n",
       "      <td>71</td>\n",
       "      <td>2</td>\n",
       "      <td>7.07</td>\n",
       "      <td>US</td>\n",
       "      <td>2022-02-09 02:24:46</td>\n",
       "    </tr>\n",
       "    <tr>\n",
       "      <th>6</th>\n",
       "      <td>6</td>\n",
       "      <td>Mataura</td>\n",
       "      <td>-46.1927</td>\n",
       "      <td>168.8643</td>\n",
       "      <td>64.47</td>\n",
       "      <td>66</td>\n",
       "      <td>100</td>\n",
       "      <td>4.99</td>\n",
       "      <td>NZ</td>\n",
       "      <td>2022-02-09 02:24:47</td>\n",
       "    </tr>\n",
       "    <tr>\n",
       "      <th>7</th>\n",
       "      <td>7</td>\n",
       "      <td>Lagoa</td>\n",
       "      <td>39.0500</td>\n",
       "      <td>-27.9833</td>\n",
       "      <td>59.23</td>\n",
       "      <td>71</td>\n",
       "      <td>98</td>\n",
       "      <td>13.13</td>\n",
       "      <td>PT</td>\n",
       "      <td>2022-02-09 02:24:47</td>\n",
       "    </tr>\n",
       "    <tr>\n",
       "      <th>8</th>\n",
       "      <td>8</td>\n",
       "      <td>Faya</td>\n",
       "      <td>18.3851</td>\n",
       "      <td>42.4509</td>\n",
       "      <td>50.52</td>\n",
       "      <td>81</td>\n",
       "      <td>6</td>\n",
       "      <td>3.56</td>\n",
       "      <td>SA</td>\n",
       "      <td>2022-02-09 02:24:47</td>\n",
       "    </tr>\n",
       "    <tr>\n",
       "      <th>9</th>\n",
       "      <td>9</td>\n",
       "      <td>Leua</td>\n",
       "      <td>48.2156</td>\n",
       "      <td>18.6071</td>\n",
       "      <td>44.92</td>\n",
       "      <td>86</td>\n",
       "      <td>100</td>\n",
       "      <td>10.51</td>\n",
       "      <td>SK</td>\n",
       "      <td>2022-02-09 02:24:48</td>\n",
       "    </tr>\n",
       "    <tr>\n",
       "      <th>11</th>\n",
       "      <td>11</td>\n",
       "      <td>Princeton</td>\n",
       "      <td>25.5384</td>\n",
       "      <td>-80.4089</td>\n",
       "      <td>68.02</td>\n",
       "      <td>87</td>\n",
       "      <td>0</td>\n",
       "      <td>11.50</td>\n",
       "      <td>US</td>\n",
       "      <td>2022-02-09 02:24:48</td>\n",
       "    </tr>\n",
       "  </tbody>\n",
       "</table>\n",
       "</div>"
      ],
      "text/plain": [
       "    City_ID          City      Lat       Lng  Max Temp  Humidity  Cloudiness  \\\n",
       "0         0        Kodiak  57.7900 -152.4072     24.31        58          40   \n",
       "1         1        Castro -24.7911  -50.0119     61.45        98          31   \n",
       "2         2  Saint George  37.1041 -113.5841     61.39        16           0   \n",
       "3         3    Talcahuano -36.7167  -73.1167     64.08        72           0   \n",
       "4         4         Ozark  37.0209  -93.2060     52.21        71           2   \n",
       "6         6       Mataura -46.1927  168.8643     64.47        66         100   \n",
       "7         7         Lagoa  39.0500  -27.9833     59.23        71          98   \n",
       "8         8          Faya  18.3851   42.4509     50.52        81           6   \n",
       "9         9          Leua  48.2156   18.6071     44.92        86         100   \n",
       "11       11     Princeton  25.5384  -80.4089     68.02        87           0   \n",
       "\n",
       "    Wind Speed Country                 Date  \n",
       "0        10.36      US  2022-02-09 02:24:45  \n",
       "1         9.04      BR  2022-02-09 02:24:46  \n",
       "2        20.71      US  2022-02-09 02:22:44  \n",
       "3        17.27      CL  2022-02-09 02:24:46  \n",
       "4         7.07      US  2022-02-09 02:24:46  \n",
       "6         4.99      NZ  2022-02-09 02:24:47  \n",
       "7        13.13      PT  2022-02-09 02:24:47  \n",
       "8         3.56      SA  2022-02-09 02:24:47  \n",
       "9        10.51      SK  2022-02-09 02:24:48  \n",
       "11       11.50      US  2022-02-09 02:24:48  "
      ]
     },
     "execution_count": 15,
     "metadata": {},
     "output_type": "execute_result"
    }
   ],
   "source": [
    "# Filter the dataset to find the cities that fit the criteria.\n",
    "preferred_cities_df = city_data_df.loc[(city_data_df[\"Max Temp\"] <= max_temp) & \\\n",
    "                                       (city_data_df[\"Max Temp\"] >= min_temp)]\n",
    "preferred_cities_df.head(10)"
   ]
  },
  {
   "cell_type": "code",
   "execution_count": 19,
   "id": "d38c82f3",
   "metadata": {},
   "outputs": [
    {
     "data": {
      "text/plain": [
       "City_ID       0\n",
       "City          0\n",
       "Lat           0\n",
       "Lng           0\n",
       "Max Temp      0\n",
       "Humidity      0\n",
       "Cloudiness    0\n",
       "Wind Speed    0\n",
       "Country       3\n",
       "Date          0\n",
       "dtype: int64"
      ]
     },
     "execution_count": 19,
     "metadata": {},
     "output_type": "execute_result"
    }
   ],
   "source": [
    "preferred_cities_df.isnull().sum()"
   ]
  },
  {
   "cell_type": "code",
   "execution_count": 20,
   "id": "41ec90e1",
   "metadata": {},
   "outputs": [
    {
     "data": {
      "text/html": [
       "<div>\n",
       "<style scoped>\n",
       "    .dataframe tbody tr th:only-of-type {\n",
       "        vertical-align: middle;\n",
       "    }\n",
       "\n",
       "    .dataframe tbody tr th {\n",
       "        vertical-align: top;\n",
       "    }\n",
       "\n",
       "    .dataframe thead th {\n",
       "        text-align: right;\n",
       "    }\n",
       "</style>\n",
       "<table border=\"1\" class=\"dataframe\">\n",
       "  <thead>\n",
       "    <tr style=\"text-align: right;\">\n",
       "      <th></th>\n",
       "      <th>City</th>\n",
       "      <th>Country</th>\n",
       "      <th>Max Temp</th>\n",
       "      <th>Lat</th>\n",
       "      <th>Lng</th>\n",
       "      <th>Hotel Name</th>\n",
       "    </tr>\n",
       "  </thead>\n",
       "  <tbody>\n",
       "    <tr>\n",
       "      <th>0</th>\n",
       "      <td>Kodiak</td>\n",
       "      <td>US</td>\n",
       "      <td>24.31</td>\n",
       "      <td>57.7900</td>\n",
       "      <td>-152.4072</td>\n",
       "      <td></td>\n",
       "    </tr>\n",
       "    <tr>\n",
       "      <th>1</th>\n",
       "      <td>Castro</td>\n",
       "      <td>BR</td>\n",
       "      <td>61.45</td>\n",
       "      <td>-24.7911</td>\n",
       "      <td>-50.0119</td>\n",
       "      <td></td>\n",
       "    </tr>\n",
       "    <tr>\n",
       "      <th>2</th>\n",
       "      <td>Saint George</td>\n",
       "      <td>US</td>\n",
       "      <td>61.39</td>\n",
       "      <td>37.1041</td>\n",
       "      <td>-113.5841</td>\n",
       "      <td></td>\n",
       "    </tr>\n",
       "    <tr>\n",
       "      <th>3</th>\n",
       "      <td>Talcahuano</td>\n",
       "      <td>CL</td>\n",
       "      <td>64.08</td>\n",
       "      <td>-36.7167</td>\n",
       "      <td>-73.1167</td>\n",
       "      <td></td>\n",
       "    </tr>\n",
       "    <tr>\n",
       "      <th>4</th>\n",
       "      <td>Ozark</td>\n",
       "      <td>US</td>\n",
       "      <td>52.21</td>\n",
       "      <td>37.0209</td>\n",
       "      <td>-93.2060</td>\n",
       "      <td></td>\n",
       "    </tr>\n",
       "    <tr>\n",
       "      <th>6</th>\n",
       "      <td>Mataura</td>\n",
       "      <td>NZ</td>\n",
       "      <td>64.47</td>\n",
       "      <td>-46.1927</td>\n",
       "      <td>168.8643</td>\n",
       "      <td></td>\n",
       "    </tr>\n",
       "    <tr>\n",
       "      <th>7</th>\n",
       "      <td>Lagoa</td>\n",
       "      <td>PT</td>\n",
       "      <td>59.23</td>\n",
       "      <td>39.0500</td>\n",
       "      <td>-27.9833</td>\n",
       "      <td></td>\n",
       "    </tr>\n",
       "    <tr>\n",
       "      <th>8</th>\n",
       "      <td>Faya</td>\n",
       "      <td>SA</td>\n",
       "      <td>50.52</td>\n",
       "      <td>18.3851</td>\n",
       "      <td>42.4509</td>\n",
       "      <td></td>\n",
       "    </tr>\n",
       "    <tr>\n",
       "      <th>9</th>\n",
       "      <td>Leua</td>\n",
       "      <td>SK</td>\n",
       "      <td>44.92</td>\n",
       "      <td>48.2156</td>\n",
       "      <td>18.6071</td>\n",
       "      <td></td>\n",
       "    </tr>\n",
       "    <tr>\n",
       "      <th>11</th>\n",
       "      <td>Princeton</td>\n",
       "      <td>US</td>\n",
       "      <td>68.02</td>\n",
       "      <td>25.5384</td>\n",
       "      <td>-80.4089</td>\n",
       "      <td></td>\n",
       "    </tr>\n",
       "  </tbody>\n",
       "</table>\n",
       "</div>"
      ],
      "text/plain": [
       "            City Country  Max Temp      Lat       Lng Hotel Name\n",
       "0         Kodiak      US     24.31  57.7900 -152.4072           \n",
       "1         Castro      BR     61.45 -24.7911  -50.0119           \n",
       "2   Saint George      US     61.39  37.1041 -113.5841           \n",
       "3     Talcahuano      CL     64.08 -36.7167  -73.1167           \n",
       "4          Ozark      US     52.21  37.0209  -93.2060           \n",
       "6        Mataura      NZ     64.47 -46.1927  168.8643           \n",
       "7          Lagoa      PT     59.23  39.0500  -27.9833           \n",
       "8           Faya      SA     50.52  18.3851   42.4509           \n",
       "9           Leua      SK     44.92  48.2156   18.6071           \n",
       "11     Princeton      US     68.02  25.5384  -80.4089           "
      ]
     },
     "execution_count": 20,
     "metadata": {},
     "output_type": "execute_result"
    }
   ],
   "source": [
    "# Create DataFrame called hotel_df to store hotel names along with city, country, max temp, and coordinates.\n",
    "hotel_df = preferred_cities_df[[\"City\", \"Country\", \"Max Temp\", \"Lat\", \"Lng\"]].copy()\n",
    "hotel_df[\"Hotel Name\"] = \"\"\n",
    "hotel_df.head(10)"
   ]
  },
  {
   "cell_type": "code",
   "execution_count": 21,
   "id": "2eebbb18",
   "metadata": {},
   "outputs": [],
   "source": [
    "# Set parameters to search for a hotel.\n",
    "params = {\n",
    "    \"radius\": 5000,\n",
    "    \"type\": \"lodging\",\n",
    "    \"key\": g_key\n",
    "}"
   ]
  },
  {
   "cell_type": "code",
   "execution_count": 23,
   "id": "b206b477",
   "metadata": {},
   "outputs": [
    {
     "name": "stdout",
     "output_type": "stream",
     "text": [
      "Hotel not found......skiping.\n",
      "Hotel not found......skiping.\n",
      "Hotel not found......skiping.\n",
      "Hotel not found......skiping.\n",
      "Hotel not found......skiping.\n",
      "Hotel not found......skiping.\n",
      "Hotel not found......skiping.\n",
      "Hotel not found......skiping.\n",
      "Hotel not found......skiping.\n",
      "Hotel not found......skiping.\n",
      "Hotel not found......skiping.\n",
      "Hotel not found......skiping.\n",
      "Hotel not found......skiping.\n",
      "Hotel not found......skiping.\n",
      "Hotel not found......skiping.\n",
      "Hotel not found......skiping.\n",
      "Hotel not found......skiping.\n",
      "Hotel not found......skiping.\n",
      "Hotel not found......skiping.\n",
      "Hotel not found......skiping.\n",
      "Hotel not found......skiping.\n",
      "Hotel not found......skiping.\n",
      "Hotel not found......skiping.\n",
      "Hotel not found......skiping.\n",
      "Hotel not found......skiping.\n"
     ]
    }
   ],
   "source": [
    "# Iterate through the DataFrame.\n",
    "for index, row in hotel_df.iterrows():\n",
    "    # Get the latitude and longitude.\n",
    "    lat = row[\"Lat\"]\n",
    "    lng = row[\"Lng\"]\n",
    "\n",
    "    # Add the latitude and longitude to location key for the params dictionary.\n",
    "    params[\"location\"] = f\"{lat},{lng}\"\n",
    "\n",
    "    # Use the search term: \"lodging\" and our latitude and longitude.\n",
    "    base_url = \"https://maps.googleapis.com/maps/api/place/nearbysearch/json\"\n",
    "    # Make request and get the JSON data from the search.\n",
    "    hotels = requests.get(base_url, params=params).json()\n",
    "    try:\n",
    "        # Grab the first hotel from the results and store the name.\n",
    "        hotel_df.loc[index, \"Hotel Name\"] = hotels[\"results\"][0][\"name\"]    \n",
    "    except (IndexError):\n",
    "        print(\"Hotel not found......skiping.\")"
   ]
  },
  {
   "cell_type": "code",
   "execution_count": 27,
   "id": "e1093965",
   "metadata": {},
   "outputs": [
    {
     "data": {
      "application/vnd.jupyter.widget-view+json": {
       "model_id": "e04db741bd864045aa4c7abda6537f4e",
       "version_major": 2,
       "version_minor": 0
      },
      "text/plain": [
       "Figure(layout=FigureLayout(height='420px'))"
      ]
     },
     "metadata": {},
     "output_type": "display_data"
    }
   ],
   "source": [
    "info_box_template = \"\"\"\n",
    "<dl>\n",
    "<dt>Hotel Name</dt><dd>{Hotel Name}</dd>\n",
    "<dt>City</dt><dd>{City}</dd>\n",
    "<dt>Country</dt><dd>{Country}</dd>\n",
    "<dt>Max Temp</dt><dd>{Max Temp} °F</dd>\n",
    "</dl>\n",
    "\"\"\"\n",
    "# Store the DataFrame Row.\n",
    "hotel_info = [info_box_template.format(**row) for index, row in hotel_df.iterrows()]\n",
    "\n",
    "# Add a heatmap of temperature for the vacation spots and a pop-up marker for each city.\n",
    "locations = hotel_df[[\"Lat\", \"Lng\"]]\n",
    "max_temp = hotel_df[\"Max Temp\"]\n",
    "fig = gmaps.figure(center=(30.0, 31.0), zoom_level=1.5)\n",
    "heat_layer = gmaps.heatmap_layer(locations, weights=max_temp,dissipating=False,\n",
    "             max_intensity=300, point_radius=4)\n",
    "marker_layer = gmaps.marker_layer(locations, info_box_content=hotel_info)\n",
    "fig.add_layer(heat_layer)\n",
    "fig.add_layer(marker_layer)\n",
    "\n",
    "# Call the figure to plot the data.\n",
    "fig"
   ]
  }
 ],
 "metadata": {
  "interpreter": {
   "hash": "66105df4826877f2d031cc1fb162f2052bcf2d2452eac71d8bd9ac9d003cee6b"
  },
  "kernelspec": {
   "display_name": "PythonData",
   "language": "python",
   "name": "python3"
  },
  "language_info": {
   "codemirror_mode": {
    "name": "ipython",
    "version": 3
   },
   "file_extension": ".py",
   "mimetype": "text/x-python",
   "name": "python",
   "nbconvert_exporter": "python",
   "pygments_lexer": "ipython3",
   "version": "3.8.8"
  }
 },
 "nbformat": 4,
 "nbformat_minor": 5
}
